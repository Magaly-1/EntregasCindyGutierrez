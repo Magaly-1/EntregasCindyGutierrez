{
 "cells": [
  {
   "cell_type": "code",
   "execution_count": 1,
   "metadata": {},
   "outputs": [
    {
     "name": "stdout",
     "output_type": "stream",
     "text": [
      "ingrese_cantidad_de_segundos:2743\n",
      "Horas\n",
      "0\n",
      "Minutos\n",
      "45\n",
      "Segundos\n",
      "43\n"
     ]
    }
   ],
   "source": [
    "segundos=input(\"ingrese_cantidad_de_segundos:\")#\"2743\"\n",
    "segundos=int(segundos)\n",
    "horas=segundos//3600 #1\n",
    "sobrante1=segundos%3600 #43\n",
    "minutos=sobrante1//60 #1\n",
    "sobrante2= sobrante1%60 #3\n",
    "\n",
    "print(\"Horas\")\n",
    "print(horas)\n",
    "print(\"Minutos\")\n",
    "print(minutos)\n",
    "print(\"Segundos\")\n",
    "print(sobrante2)"
   ]
  },
  {
   "cell_type": "code",
   "execution_count": 17,
   "metadata": {},
   "outputs": [
    {
     "name": "stdout",
     "output_type": "stream",
     "text": [
      "Introduce el número de renglores el triángulo 4\n",
      "\n",
      "*\n",
      "**\n",
      "***\n",
      "****\n",
      "    \n",
      "   *\n",
      "  **\n",
      " ***\n",
      "****\n",
      "    \n",
      "   * \n",
      "  * * \n",
      " * * * \n",
      "* * * * \n",
      "****\n",
      " ***\n",
      "  **\n",
      "   *\n",
      "    \n"
     ]
    }
   ],
   "source": [
    "n=int(input(\"Introduce el número de renglores el triángulo \"))\n",
    "for i in range(n+1):\n",
    "    print('*'*i)\n",
    "    \n",
    "for i in range(n+1):\n",
    "    espacios=n-i\n",
    "    print(' '*espacios+'*'*i)\n",
    "    \n",
    "for i in range(n+1):\n",
    "    espacios=n-i\n",
    "    print(' '*espacios+'* '*i)\n",
    "    \n",
    "for i in range(n,-1,-1):\n",
    "    espacios=n-i\n",
    "    print(' '*espacios+'*'*i)\n",
    "    "
   ]
  },
  {
   "cell_type": "code",
   "execution_count": null,
   "metadata": {},
   "outputs": [],
   "source": [
    "from datetime import date\n",
    "\n",
    "def Calcular_edad(born):\n",
    "    today = datetime.today()\n",
    "    age = today.year - born.year - ((today.month, today.day) < (born.month, born.day))\n",
    "    return age\n",
    "birth_date = input(\"Ingrese su fecha de nacimiento (dd/mm/yyyy): \")\n",
    "birth_date = datetime.strptime(birth_date, \"%d/%m/%Y\")\n",
    "age = Calcular_edad(birth_date)\n",
    "print(\"Tienes\", age, \"años.\")\n"
   ]
  },
  {
   "cell_type": "code",
   "execution_count": null,
   "metadata": {},
   "outputs": [],
   "source": []
  },
  {
   "cell_type": "code",
   "execution_count": null,
   "metadata": {},
   "outputs": [],
   "source": []
  }
 ],
 "metadata": {
  "kernelspec": {
   "display_name": "Python 3 (ipykernel)",
   "language": "python",
   "name": "python3"
  },
  "language_info": {
   "codemirror_mode": {
    "name": "ipython",
    "version": 3
   },
   "file_extension": ".py",
   "mimetype": "text/x-python",
   "name": "python",
   "nbconvert_exporter": "python",
   "pygments_lexer": "ipython3",
   "version": "3.9.13"
  }
 },
 "nbformat": 4,
 "nbformat_minor": 2
}

{
 "cells": [
  {
   "cell_type": "code",
   "execution_count": null,
   "metadata": {},
   "outputs": [],
   "source": [
    "segundos=input(\"ingrese_cantidad_de_segundos:\")#\"2743\"\n",
    "segundos=int(segundos)\n",
    "horas=segundos//3600 #1\n",
    "sobrante1=segundos%3600 #43\n",
    "minutos=sobrante1//60 #1\n",
    "sobrante2= sobrante1%60 #3\n",
    "\n",
    "print(\"Horas\")\n",
    "print(horas)\n",
    "print(\"Minutos\")\n",
    "print(minutos)\n",
    "print(\"Segundos\")\n",
    "print(sobrante2)"
   ]
  },
  {
   "cell_type": "code",
   "execution_count": null,
   "metadata": {},
   "outputs": [],
   "source": [
    "n=int(input(\"Introduce el número de renglores el triángulo \"))\n",
    "for i in range(n+1):\n",
    "    print('*'*i)\n",
    "    \n",
    "for i in range(n+1):\n",
    "    espacios=n-i\n",
    "    print(' '*espacios+'*'*i)\n",
    "    \n",
    "for i in range(n+1):\n",
    "    espacios=n-i\n",
    "    print(' '*espacios+'* '*i)\n",
    "    \n",
    "for i in range(n,-1,-1):\n",
    "    espacios=n-i\n",
    "    print(' '*espacios+'*'*i)\n",
    "    "
   ]
  },
  {
   "cell_type": "code",
   "execution_count": null,
   "metadata": {},
   "outputs": [],
   "source": [
    "from datetime import date\n",
    "\n",
    "def Calcular_edad(born):\n",
    "    today = datetime.today()\n",
    "    age = today.year - born.year - ((today.month, today.day) < (born.month, born.day))\n",
    "    return age\n",
    "birth_date = input(\"Ingrese su fecha de nacimiento (dd/mm/yyyy): \")\n",
    "birth_date = datetime.strptime(birth_date, \"%d/%m/%Y\")\n",
    "age = Calcular_edad(birth_date)\n",
    "print(\"Tienes\", age, \"años.\")\n"
   ]
  },
  {
   "cell_type": "code",
   "execution_count": null,
   "metadata": {},
   "outputs": [],
   "source": [
    "entrada = ('10', '20', '40', '5','70' )\n",
    "\n",
    "resultado = ''.join(entrada)\n",
    "\n",
    "print(type(resultado))\n",
    "print(10,20,40,5,70)"
   ]
  },
  {
   "cell_type": "code",
   "execution_count": null,
   "metadata": {},
   "outputs": [],
   "source": [
    "tupla = [(),(),('X'),('a','b'),('a','b','c'),('d')]\n",
    "\n",
    "print(tupla)\n",
    "print(len(tupla))  "
   ]
  },
  {
   "cell_type": "code",
   "execution_count": null,
   "metadata": {},
   "outputs": [],
   "source": [
    "import statistics\n",
    "import numpy\n",
    "\n",
    "tupla = '((10, 10, 10, 12), (30, 45, 56, 45), (81, 80, 39, 32))'\n",
    "print(tupla)\n",
    "\n",
    "mean = sum(tupla)/float(len(tupla))\n",
    "print(mean)"
   ]
  },
  {
   "cell_type": "code",
   "execution_count": null,
   "metadata": {},
   "outputs": [],
   "source": [
    "invoices = {}\n",
    "collected = 0\n",
    "remains = 0\n",
    "more = ''\n",
    "while more != 'T':\n",
    "    if more == 'A':\n",
    "        key = input('Introduce el número de la factura: ')\n",
    "        cost = float(input('Introduce el coste de la factura: '))\n",
    "        invoices[key] = cost\n",
    "        remains += cost\n",
    "    if more == 'P':\n",
    "        key = input('Introduce el número de la factura a pagar: ')\n",
    "        cost = invoices.pop(key, 0)\n",
    "        collected += cost\n",
    "        remains -= cost\n",
    "    print('Recaudado:', collected)\n",
    "    print('Pendiente de cobro: ', remains)\n",
    "    more = input('¿Quieres añadir una nueva factura (A), pagarla (P) o terminar (T)? ')"
   ]
  },
  {
   "cell_type": "code",
   "execution_count": null,
   "metadata": {},
   "outputs": [],
   "source": [
    "\n",
    "import random\n",
    " \n",
    "valor = [\"A\",\"2\",\"3\",\"4\",\"5\",\"6\",\"7\",\"J\",\"Q\",\"K\"]\n",
    "color = [\"espadas\",\"copas\",\"oros\",\"bastos\"]\n",
    "baraja = []\n",
    " \n",
    "for v in valor:\n",
    "    for c in color:\n",
    "        carta = \"{} de  {}\".format(v,c)\n",
    "        baraja.append(carta)\n",
    "random.shuffle(baraja)\n",
    "print(baraja)\n",
    " \n",
    "jug = []\n",
    "jug1 = []\n",
    " \n",
    "jug.extend([baraja.pop(), baraja.pop()])\n",
    "jug1.extend([baraja.pop(), baraja.pop()])"
   ]
  },
  {
   "cell_type": "code",
   "execution_count": null,
   "metadata": {},
   "outputs": [],
   "source": []
  }
 ],
 "metadata": {
  "kernelspec": {
   "display_name": "Python 3 (ipykernel)",
   "language": "python",
   "name": "python3"
  },
  "language_info": {
   "codemirror_mode": {
    "name": "ipython",
    "version": 3
   },
   "file_extension": ".py",
   "mimetype": "text/x-python",
   "name": "python",
   "nbconvert_exporter": "python",
   "pygments_lexer": "ipython3",
   "version": "3.9.13"
  }
 },
 "nbformat": 4,
 "nbformat_minor": 2
}
